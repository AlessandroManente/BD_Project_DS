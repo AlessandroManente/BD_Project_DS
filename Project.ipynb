{
 "cells": [
  {
   "cell_type": "markdown",
   "id": "virtual-hundred",
   "metadata": {},
   "source": [
    "# Project"
   ]
  },
  {
   "cell_type": "markdown",
   "id": "hybrid-springfield",
   "metadata": {},
   "source": [
    "## Download Data"
   ]
  },
  {
   "cell_type": "code",
   "execution_count": 1,
   "id": "dominant-korea",
   "metadata": {},
   "outputs": [
    {
     "name": "stdout",
     "output_type": "stream",
     "text": [
      "https://www.ebi.ac.uk/interpro/api/protein/reviewed/entry/pfam/pf03060?cursor=q8nxg7&format=json\n"
     ]
    }
   ],
   "source": [
    "import urllib\n",
    "import json\n",
    "import pandas as pd\n",
    "\n",
    "url = \"https://www.ebi.ac.uk/interpro/api/protein/reviewed/entry/pfam/pf03060?format=json\"\n",
    "response = urllib.request.urlopen(url)\n",
    "data = json.loads(response.read())\n",
    "\n",
    "json_next = True\n",
    "\n",
    "metadata_columns = ['accession', 'name', 'source_database', 'length', 'source_organism_taxID', 'source_organism_scientificName', 'source_organism_fullName']\n",
    "entries_columns = ['accession', 'entry_protein_locations_fragments_start', 'entry_protein_locations_fragments_end', 'entry_protein_locations_fragments_dc-status', 'entry_protein_locations_model', 'entry_protein_locations_score', 'protein_length', 'source_database', 'entry_type', 'entry_integrated']\n",
    "metadata = pd.DataFrame(columns=metadata_columns)\n",
    "entries = pd.DataFrame(columns=entries_columns)\n",
    "\n",
    "for el in data['results']:\n",
    "    meta = []\n",
    "    \n",
    "    for key in el['metadata'].keys():\n",
    "        if key != 'source_organism':\n",
    "            meta.append(el['metadata'][key])\n",
    "            \n",
    "        else:\n",
    "            for key_2 in el['metadata'][key].keys():\n",
    "                meta.append(el['metadata'][key][key_2])\n",
    "    \n",
    "    entry = []\n",
    "    \n",
    "    for key in el['entries'][0]:\n",
    "        if key != 'entry_protein_locations':\n",
    "            entry.append(el['entries'][0][key])\n",
    "            \n",
    "        else:\n",
    "            for key_2 in el['entries'][0][key][0].keys():\n",
    "                if key_2 != 'fragments':\n",
    "                    entry.append(el['entries'][0][key][0][key_2])\n",
    "\n",
    "                else:\n",
    "                    for key_3 in el['entries'][0][key][0][key_2][0].keys():\n",
    "                        entry.append(el['entries'][0][key][0][key_2][0][key_3])\n",
    "                        \n",
    "    metadata = metadata.append(dict(zip(metadata_columns, meta)), ignore_index=True)\n",
    "    entries = entries.append(dict(zip(entries_columns, entry)), ignore_index=True)\n",
    "    \n",
    "\n",
    "print(data['next'])"
   ]
  }
 ],
 "metadata": {
  "kernelspec": {
   "display_name": "Python 3",
   "language": "python",
   "name": "python3"
  },
  "language_info": {
   "codemirror_mode": {
    "name": "ipython",
    "version": 3
   },
   "file_extension": ".py",
   "mimetype": "text/x-python",
   "name": "python",
   "nbconvert_exporter": "python",
   "pygments_lexer": "ipython3",
   "version": "3.7.9"
  }
 },
 "nbformat": 4,
 "nbformat_minor": 5
}
