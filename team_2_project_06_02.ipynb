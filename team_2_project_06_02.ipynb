{
 "cells": [
  {
   "cell_type": "code",
   "execution_count": 1,
   "metadata": {},
   "outputs": [],
   "source": [
    "import urllib, json\n",
    "import pandas as pd"
   ]
  },
  {
   "cell_type": "markdown",
   "metadata": {},
   "source": [
    "# Json Download"
   ]
  },
  {
   "cell_type": "code",
   "execution_count": 16,
   "metadata": {},
   "outputs": [],
   "source": [
    "def read_json(url):\n",
    "    \n",
    "    response = urllib.request.urlopen(url) \n",
    "    data = json.loads(response.read())\n",
    "    \n",
    "    json_next = data['next']\n",
    "    \n",
    "    protein_id = pd.Series([m['metadata']['accession'] for m in data['results']])\n",
    "    fragments = [m['entries'][0]['entry_protein_locations'][0] for m in data['results']]\n",
    "    positions = [frag['fragments'][0] for frag in fragments]\n",
    "    domain_start = pd.Series([pos['start'] for pos in positions])\n",
    "    domanin_end = pd.Series([pos['end'] for pos in positions])\n",
    "\n",
    "    protein_df = pd.DataFrame({'protein_id':protein_id,'domain_start':domain_start,'domanin_end':domanin_end})\n",
    "    return protein_df, json_next"
   ]
  },
  {
   "cell_type": "code",
   "execution_count": 17,
   "metadata": {},
   "outputs": [],
   "source": [
    "def create_json(url):\n",
    "  protein_df_global = pd.DataFrame(columns=['protein_id','domain_start','domanin_end'])\n",
    "  \n",
    "  read = True\n",
    "\n",
    "  while read == True:\n",
    "      protein_block, next_url = read_json(url)\n",
    "\n",
    "      protein_df_global = protein_df_global.append(protein_block, ignore_index=True)\n",
    "      if next_url != None:\n",
    "          url = next_url\n",
    "          read = True\n",
    "      else:\n",
    "          read = False\n",
    "\n",
    "  return protein_df_global"
   ]
  },
  {
   "cell_type": "code",
   "execution_count": 18,
   "metadata": {},
   "outputs": [],
   "source": [
    "reviewed_protein_df = create_json(\"https://www.ebi.ac.uk/interpro/api/protein/reviewed/entry/pfam/pf00362?format=json\")\n",
    "unreviewed_protein_df = create_json(\"https://www.ebi.ac.uk/interpro/api/protein/unreviewed/entry/pfam/pf00362?format=json\")"
   ]
  },
  {
   "cell_type": "code",
   "execution_count": 19,
   "metadata": {},
   "outputs": [
    {
     "data": {
      "text/html": [
       "<div>\n",
       "<style scoped>\n",
       "    .dataframe tbody tr th:only-of-type {\n",
       "        vertical-align: middle;\n",
       "    }\n",
       "\n",
       "    .dataframe tbody tr th {\n",
       "        vertical-align: top;\n",
       "    }\n",
       "\n",
       "    .dataframe thead th {\n",
       "        text-align: right;\n",
       "    }\n",
       "</style>\n",
       "<table border=\"1\" class=\"dataframe\">\n",
       "  <thead>\n",
       "    <tr style=\"text-align: right;\">\n",
       "      <th></th>\n",
       "      <th>protein_id</th>\n",
       "      <th>domain_start</th>\n",
       "      <th>domanin_end</th>\n",
       "    </tr>\n",
       "  </thead>\n",
       "  <tbody>\n",
       "    <tr>\n",
       "      <th>0</th>\n",
       "      <td>A0A016VF04</td>\n",
       "      <td>166</td>\n",
       "      <td>410</td>\n",
       "    </tr>\n",
       "    <tr>\n",
       "      <th>1</th>\n",
       "      <td>A0A023AZ45</td>\n",
       "      <td>42</td>\n",
       "      <td>113</td>\n",
       "    </tr>\n",
       "    <tr>\n",
       "      <th>2</th>\n",
       "      <td>A0A023B4T2</td>\n",
       "      <td>17</td>\n",
       "      <td>243</td>\n",
       "    </tr>\n",
       "    <tr>\n",
       "      <th>3</th>\n",
       "      <td>A0A023B824</td>\n",
       "      <td>93</td>\n",
       "      <td>231</td>\n",
       "    </tr>\n",
       "    <tr>\n",
       "      <th>4</th>\n",
       "      <td>A0A023B8X4</td>\n",
       "      <td>132</td>\n",
       "      <td>371</td>\n",
       "    </tr>\n",
       "    <tr>\n",
       "      <th>...</th>\n",
       "      <td>...</td>\n",
       "      <td>...</td>\n",
       "      <td>...</td>\n",
       "    </tr>\n",
       "    <tr>\n",
       "      <th>6703</th>\n",
       "      <td>X1U792</td>\n",
       "      <td>67</td>\n",
       "      <td>133</td>\n",
       "    </tr>\n",
       "    <tr>\n",
       "      <th>6704</th>\n",
       "      <td>X2BBV3</td>\n",
       "      <td>97</td>\n",
       "      <td>340</td>\n",
       "    </tr>\n",
       "    <tr>\n",
       "      <th>6705</th>\n",
       "      <td>X2BBX2</td>\n",
       "      <td>39</td>\n",
       "      <td>283</td>\n",
       "    </tr>\n",
       "    <tr>\n",
       "      <th>6706</th>\n",
       "      <td>X2JAU0</td>\n",
       "      <td>180</td>\n",
       "      <td>423</td>\n",
       "    </tr>\n",
       "    <tr>\n",
       "      <th>6707</th>\n",
       "      <td>X2JE30</td>\n",
       "      <td>180</td>\n",
       "      <td>423</td>\n",
       "    </tr>\n",
       "  </tbody>\n",
       "</table>\n",
       "<p>6708 rows × 3 columns</p>\n",
       "</div>"
      ],
      "text/plain": [
       "      protein_id domain_start domanin_end\n",
       "0     A0A016VF04          166         410\n",
       "1     A0A023AZ45           42         113\n",
       "2     A0A023B4T2           17         243\n",
       "3     A0A023B824           93         231\n",
       "4     A0A023B8X4          132         371\n",
       "...          ...          ...         ...\n",
       "6703      X1U792           67         133\n",
       "6704      X2BBV3           97         340\n",
       "6705      X2BBX2           39         283\n",
       "6706      X2JAU0          180         423\n",
       "6707      X2JE30          180         423\n",
       "\n",
       "[6708 rows x 3 columns]"
      ]
     },
     "execution_count": 19,
     "metadata": {},
     "output_type": "execute_result"
    }
   ],
   "source": [
    "unreviewed_protein_df"
   ]
  },
  {
   "cell_type": "code",
   "execution_count": null,
   "metadata": {},
   "outputs": [],
   "source": []
  }
 ],
 "metadata": {
  "kernelspec": {
   "display_name": "Python 3",
   "language": "python",
   "name": "python3"
  },
  "language_info": {
   "codemirror_mode": {
    "name": "ipython",
    "version": 3
   },
   "file_extension": ".py",
   "mimetype": "text/x-python",
   "name": "python",
   "nbconvert_exporter": "python",
   "pygments_lexer": "ipython3",
   "version": "3.8.6"
  }
 },
 "nbformat": 4,
 "nbformat_minor": 4
}
