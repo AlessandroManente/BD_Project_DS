{
 "cells": [
  {
   "cell_type": "markdown",
   "id": "military-penetration",
   "metadata": {},
   "source": [
    "# Project"
   ]
  },
  {
   "cell_type": "markdown",
   "id": "alpine-hydrogen",
   "metadata": {},
   "source": [
    "## Download Data"
   ]
  },
  {
   "cell_type": "code",
   "execution_count": 1,
   "id": "assumed-summit",
   "metadata": {},
   "outputs": [
    {
     "output_type": "stream",
     "name": "stdout",
     "text": [
      "Got data\n"
     ]
    }
   ],
   "source": [
    "import urllib\n",
    "import json\n",
    "import pandas as pd\n",
    "from bd_addons.interpro_data import *\n",
    "\n",
    "url = \"https://www.ebi.ac.uk/interpro/api/protein/reviewed/entry/pfam/pf03060?format=json\"\n",
    "\n",
    "metadata, entries, gt = get_data(url, 1)"
   ]
  },
  {
   "source": [
    "\n",
    "# 8 - Evaluate Ability of Matching sequences\n",
    "Once we made the PSI-BLAST e HMM-searches we will have some files where all the sequences are... we should:\n",
    "\n",
    "- Find a format that we can parse (there should be options in the documentations of thevarious methods);\n",
    "- Decide a threshold for the E-value and take all the hits that are below that E value;\n",
    "- All the remaining sequences (call them OUT_SEQs)are the ones that, according to our model, belong to the Domain family.\n",
    "- Make a Confusion Matrix comparing OUT_SEQs with the ground truth.\n",
    "- compute accuracy, sensitivity, specificty etc"
   ],
   "cell_type": "markdown",
   "metadata": {}
  },
  {
   "source": [
    "# 9 - Evualuate the ability of matching domain position\n",
    "\n",
    "Questo si può fare solo con HMM... cfr .domtblout files..."
   ],
   "cell_type": "markdown",
   "metadata": {}
  },
  {
   "cell_type": "code",
   "execution_count": null,
   "metadata": {},
   "outputs": [],
   "source": []
  }
 ],
 "metadata": {
  "kernelspec": {
   "name": "python3",
   "display_name": "Python 3.7.9 64-bit",
   "metadata": {
    "interpreter": {
     "hash": "0600588c3b5f4418cbe7b5ebc6825b479f3bc010269d8b60d75058cdd010adfe"
    }
   }
  },
  "language_info": {
   "codemirror_mode": {
    "name": "ipython",
    "version": 3
   },
   "file_extension": ".py",
   "mimetype": "text/x-python",
   "name": "python",
   "nbconvert_exporter": "python",
   "pygments_lexer": "ipython3",
   "version": "3.7.9-final"
  }
 },
 "nbformat": 4,
 "nbformat_minor": 5
}