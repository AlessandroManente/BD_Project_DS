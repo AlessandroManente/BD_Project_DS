{
 "cells": [
  {
   "cell_type": "markdown",
   "id": "military-penetration",
   "metadata": {},
   "source": [
    "# Project"
   ]
  },
  {
   "cell_type": "markdown",
   "id": "alpine-hydrogen",
   "metadata": {},
   "source": [
    "## Download Data"
   ]
  },
  {
   "cell_type": "code",
   "execution_count": 1,
   "id": "assumed-summit",
   "metadata": {},
   "outputs": [],
   "source": [
    "import urllib\n",
    "import json\n",
    "import pandas as pd\n",
    "from bd_addons.interpro_data import *\n",
    "from bd_addons.HmmPy import *\n",
    "from bd_addons.metrics import *\n",
    "from Bio import SearchIO, SeqIO\n",
    "\n",
    "url = \"https://www.ebi.ac.uk/interpro/api/protein/reviewed/entry/pfam/pf03060?format=json\""
   ]
  },
  {
   "cell_type": "code",
   "execution_count": 2,
   "metadata": {},
   "outputs": [],
   "source": [
    "metadata, entries, gt = get_data(url, 1)"
   ]
  },
  {
   "source": [
    "\n",
    "# 8 - Evaluate Ability of Matching sequences\n",
    "Once we made the PSI-BLAST e HMM-searches we will have some files where all the sequences are... we should:\n",
    "\n",
    "- Find a format that we can parse (there should be options in the documentations of thevarious methods);\n",
    "- Decide a threshold for the E-value and take all the hits that are below that E value;\n",
    "- All the remaining sequences (call them OUT_SEQs)are the ones that, according to our model, belong to the Domain family.\n",
    "- Make a Confusion Matrix comparing OUT_SEQs with the ground truth.\n",
    "- compute accuracy, sensitivity, specificty etc"
   ],
   "cell_type": "markdown",
   "metadata": {}
  },
  {
   "source": [
    "## HMM Searches Performance"
   ],
   "cell_type": "markdown",
   "metadata": {}
  },
  {
   "cell_type": "code",
   "execution_count": 3,
   "metadata": {},
   "outputs": [],
   "source": [
    "parsed_tblouts, parsed_domtblouts = parse_hmms()"
   ]
  },
  {
   "cell_type": "code",
   "execution_count": 4,
   "metadata": {},
   "outputs": [],
   "source": [
    "parsed_psiblast = parse_psiblast()"
   ]
  },
  {
   "source": [
    "## PSSM Model Performance (C1_denoised1)"
   ],
   "cell_type": "markdown",
   "metadata": {}
  },
  {
   "source": [
    "## PSSM Model Performance (C1)"
   ],
   "cell_type": "markdown",
   "metadata": {}
  },
  {
   "cell_type": "code",
   "execution_count": 6,
   "metadata": {},
   "outputs": [
    {
     "output_type": "execute_result",
     "data": {
      "text/plain": [
       "[0.9962019391033597,\n",
       " 0.010623556581986143,\n",
       " 1.0,\n",
       " 0.9962017842038908,\n",
       " 0.9981008921019454,\n",
       " 0.10287471031096798,\n",
       " 0.02102376599634369]"
      ]
     },
     "metadata": {},
     "execution_count": 6
    }
   ],
   "source": [
    "# hmmsearch_out_C_1_denoised1_swissprot_tblout\n",
    "parsed_tblouts_1 = parsed_tblouts[0]\n",
    "metrics_list = metrics_sequences(parsed_tblouts_1, gt)\n",
    "metrics_list"
   ]
  },
  {
   "cell_type": "code",
   "execution_count": 8,
   "metadata": {},
   "outputs": [
    {
     "output_type": "execute_result",
     "data": {
      "text/plain": [
       "[0.9998173668196293,\n",
       " 0.1774193548387097,\n",
       " 0.9565217391304348,\n",
       " 0.9998191325811376,\n",
       " 0.9781704358557862,\n",
       " 0.41191222896147284,\n",
       " 0.29931972789115646]"
      ]
     },
     "metadata": {},
     "execution_count": 8
    }
   ],
   "source": [
    "# out_psiblast_C_1_swissprot_1iterations\n",
    "parsed_psiblast_3 = parsed_psiblast[3]\n",
    "metrics_list = metrics_sequences(parsed_psiblast_3, gt)\n",
    "metrics_list"
   ]
  },
  {
   "cell_type": "code",
   "execution_count": 7,
   "metadata": {},
   "outputs": [
    {
     "output_type": "execute_result",
     "data": {
      "text/plain": [
       "[0.9997588532764038,\n",
       " 0.14012738853503184,\n",
       " 0.9565217391304348,\n",
       " 0.9997606166515057,\n",
       " 0.9781411778909703,\n",
       " 0.3660596305595816,\n",
       " 0.24444444444444444]"
      ]
     },
     "metadata": {},
     "execution_count": 7
    }
   ],
   "source": [
    "# out_psiblast_C_1_denoised1_swissprot_1iterations\n",
    "parsed_psiblast_1 = parsed_psiblast[0]\n",
    "metrics_list = metrics_sequences(parsed_psiblast_1, gt)\n",
    "metrics_list"
   ]
  },
  {
   "cell_type": "code",
   "execution_count": 9,
   "metadata": {},
   "outputs": [
    {
     "output_type": "execute_result",
     "data": {
      "text/plain": [
       "[0.9998226862326498,\n",
       " 0.18181818181818182,\n",
       " 0.9565217391304348,\n",
       " 0.9998244522111042,\n",
       " 0.9781730956707695,\n",
       " 0.41698852454366625,\n",
       " 0.3055555555555556]"
      ]
     },
     "metadata": {},
     "execution_count": 9
    }
   ],
   "source": [
    "# out_psiblast_M_3_uniref90_1iterations\n",
    "parsed_psiblast_boh = parsed_psiblast[7]\n",
    "metrics_list = metrics_sequences(parsed_psiblast_boh, gt)\n",
    "metrics_list"
   ]
  },
  {
   "cell_type": "code",
   "execution_count": 10,
   "metadata": {},
   "outputs": [
    {
     "output_type": "execute_result",
     "data": {
      "text/plain": [
       "[0.9996028171611356,\n",
       " 0.08979591836734693,\n",
       " 0.9565217391304348,\n",
       " 0.9996045741724873,\n",
       " 0.978063156651461,\n",
       " 0.2930094611063365,\n",
       " 0.16417910447761194]"
      ]
     },
     "metadata": {},
     "execution_count": 10
    }
   ],
   "source": [
    "# out_psiblast_O_3_uniref90_1iterations\n",
    "parsed_psiblast_bohh = parsed_psiblast[10]\n",
    "metrics_list = metrics_sequences(parsed_psiblast_bohh, gt)\n",
    "metrics_list"
   ]
  },
  {
   "source": [
    "# 9 - Evualuate the ability of matching domain positions"
   ],
   "cell_type": "markdown",
   "metadata": {}
  },
  {
   "cell_type": "code",
   "execution_count": null,
   "metadata": {},
   "outputs": [],
   "source": []
  },
  {
   "source": [
    "*TODO* Scrivere tabella riassuntiva dei risultati delle metriche e selezione del modello"
   ],
   "cell_type": "markdown",
   "metadata": {}
  }
 ],
 "metadata": {
  "kernelspec": {
   "name": "python3",
   "display_name": "Python 3.7.9 64-bit",
   "metadata": {
    "interpreter": {
     "hash": "0600588c3b5f4418cbe7b5ebc6825b479f3bc010269d8b60d75058cdd010adfe"
    }
   }
  },
  "language_info": {
   "codemirror_mode": {
    "name": "ipython",
    "version": 3
   },
   "file_extension": ".py",
   "mimetype": "text/x-python",
   "name": "python",
   "nbconvert_exporter": "python",
   "pygments_lexer": "ipython3",
   "version": "3.7.9-final"
  }
 },
 "nbformat": 4,
 "nbformat_minor": 5
}