{
 "cells": [
  {
   "cell_type": "markdown",
   "id": "military-penetration",
   "metadata": {},
   "source": [
    "# Project"
   ]
  },
  {
   "cell_type": "markdown",
   "id": "alpine-hydrogen",
   "metadata": {},
   "source": [
    "## Download Data"
   ]
  },
  {
   "cell_type": "code",
   "execution_count": 1,
   "id": "assumed-summit",
   "metadata": {},
   "outputs": [
    {
     "output_type": "stream",
     "name": "stdout",
     "text": [
      "Got data\n"
     ]
    }
   ],
   "source": [
    "import urllib\n",
    "import json\n",
    "import pandas as pd\n",
    "from bd_addons.interpro_data import *\n",
    "\n",
    "url = \"https://www.ebi.ac.uk/interpro/api/protein/reviewed/entry/pfam/pf03060?format=json\"\n",
    "\n",
    "metadata, entries, gt = get_data(url, 1)"
   ]
  },
  {
   "cell_type": "code",
   "execution_count": 2,
   "id": "expensive-aquatic",
   "metadata": {},
   "outputs": [
    {
     "output_type": "execute_result",
     "data": {
      "text/plain": [
       "  key accession                              name source_database length  \\\n",
       "0   0    A5IR97  Probable nitronate monooxygenase        reviewed    355   \n",
       "1   1    A6QFD2  Probable nitronate monooxygenase        reviewed    355   \n",
       "2   2    A6U025  Probable nitronate monooxygenase        reviewed    355   \n",
       "3   3    A8Z1H7  Probable nitronate monooxygenase        reviewed    355   \n",
       "4   4    B2TEK6           Nitronate monooxygenase        reviewed    366   \n",
       "\n",
       "  source_organism_taxID                     source_organism_scientificName  \\\n",
       "0                359786                 Staphylococcus aureus (strain JH9)   \n",
       "1                426430              Staphylococcus aureus (strain Newman)   \n",
       "2                359787                 Staphylococcus aureus (strain JH1)   \n",
       "3                451516    Staphylococcus aureus (strain USA300 / TCH1516)   \n",
       "4                398527  Paraburkholderia phytofirmans (strain DSM 1743...   \n",
       "\n",
       "                            source_organism_fullName  \n",
       "0                 Staphylococcus aureus (strain JH9)  \n",
       "1              Staphylococcus aureus (strain Newman)  \n",
       "2                 Staphylococcus aureus (strain JH1)  \n",
       "3    Staphylococcus aureus (strain USA300 / TCH1516)  \n",
       "4  Paraburkholderia phytofirmans (strain DSM 1743...  "
      ],
      "text/html": "<div>\n<style scoped>\n    .dataframe tbody tr th:only-of-type {\n        vertical-align: middle;\n    }\n\n    .dataframe tbody tr th {\n        vertical-align: top;\n    }\n\n    .dataframe thead th {\n        text-align: right;\n    }\n</style>\n<table border=\"1\" class=\"dataframe\">\n  <thead>\n    <tr style=\"text-align: right;\">\n      <th></th>\n      <th>key</th>\n      <th>accession</th>\n      <th>name</th>\n      <th>source_database</th>\n      <th>length</th>\n      <th>source_organism_taxID</th>\n      <th>source_organism_scientificName</th>\n      <th>source_organism_fullName</th>\n    </tr>\n  </thead>\n  <tbody>\n    <tr>\n      <th>0</th>\n      <td>0</td>\n      <td>A5IR97</td>\n      <td>Probable nitronate monooxygenase</td>\n      <td>reviewed</td>\n      <td>355</td>\n      <td>359786</td>\n      <td>Staphylococcus aureus (strain JH9)</td>\n      <td>Staphylococcus aureus (strain JH9)</td>\n    </tr>\n    <tr>\n      <th>1</th>\n      <td>1</td>\n      <td>A6QFD2</td>\n      <td>Probable nitronate monooxygenase</td>\n      <td>reviewed</td>\n      <td>355</td>\n      <td>426430</td>\n      <td>Staphylococcus aureus (strain Newman)</td>\n      <td>Staphylococcus aureus (strain Newman)</td>\n    </tr>\n    <tr>\n      <th>2</th>\n      <td>2</td>\n      <td>A6U025</td>\n      <td>Probable nitronate monooxygenase</td>\n      <td>reviewed</td>\n      <td>355</td>\n      <td>359787</td>\n      <td>Staphylococcus aureus (strain JH1)</td>\n      <td>Staphylococcus aureus (strain JH1)</td>\n    </tr>\n    <tr>\n      <th>3</th>\n      <td>3</td>\n      <td>A8Z1H7</td>\n      <td>Probable nitronate monooxygenase</td>\n      <td>reviewed</td>\n      <td>355</td>\n      <td>451516</td>\n      <td>Staphylococcus aureus (strain USA300 / TCH1516)</td>\n      <td>Staphylococcus aureus (strain USA300 / TCH1516)</td>\n    </tr>\n    <tr>\n      <th>4</th>\n      <td>4</td>\n      <td>B2TEK6</td>\n      <td>Nitronate monooxygenase</td>\n      <td>reviewed</td>\n      <td>366</td>\n      <td>398527</td>\n      <td>Paraburkholderia phytofirmans (strain DSM 1743...</td>\n      <td>Paraburkholderia phytofirmans (strain DSM 1743...</td>\n    </tr>\n  </tbody>\n</table>\n</div>"
     },
     "metadata": {},
     "execution_count": 2
    }
   ],
   "source": [
    "metadata.head(5)"
   ]
  },
  {
   "cell_type": "code",
   "execution_count": 3,
   "id": "micro-knitting",
   "metadata": {},
   "outputs": [
    {
     "output_type": "execute_result",
     "data": {
      "text/plain": [
       "  key accession entry_protein_locations_fragments_start  \\\n",
       "0   0   PF03060                                       5   \n",
       "1   1   PF03060                                       5   \n",
       "2   2   PF03060                                       5   \n",
       "3   3   PF03060                                       5   \n",
       "4   4   PF03060                                      10   \n",
       "\n",
       "  entry_protein_locations_fragments_end  \\\n",
       "0                                   345   \n",
       "1                                   345   \n",
       "2                                   345   \n",
       "3                                   345   \n",
       "4                                   350   \n",
       "\n",
       "  entry_protein_locations_fragments_dc-status entry_protein_locations_model  \\\n",
       "0                                  CONTINUOUS                       PF03060   \n",
       "1                                  CONTINUOUS                       PF03060   \n",
       "2                                  CONTINUOUS                       PF03060   \n",
       "3                                  CONTINUOUS                       PF03060   \n",
       "4                                  CONTINUOUS                       PF03060   \n",
       "\n",
       "   entry_protein_locations_score protein_length source_database entry_type  \\\n",
       "0                   3.000000e-91            355            pfam     domain   \n",
       "1                   3.400000e-91            355            pfam     domain   \n",
       "2                   3.000000e-91            355            pfam     domain   \n",
       "3                   3.400000e-91            355            pfam     domain   \n",
       "4                   2.300000e-76            366            pfam     domain   \n",
       "\n",
       "  entry_integrated  \n",
       "0        ipr004136  \n",
       "1        ipr004136  \n",
       "2        ipr004136  \n",
       "3        ipr004136  \n",
       "4        ipr004136  "
      ],
      "text/html": "<div>\n<style scoped>\n    .dataframe tbody tr th:only-of-type {\n        vertical-align: middle;\n    }\n\n    .dataframe tbody tr th {\n        vertical-align: top;\n    }\n\n    .dataframe thead th {\n        text-align: right;\n    }\n</style>\n<table border=\"1\" class=\"dataframe\">\n  <thead>\n    <tr style=\"text-align: right;\">\n      <th></th>\n      <th>key</th>\n      <th>accession</th>\n      <th>entry_protein_locations_fragments_start</th>\n      <th>entry_protein_locations_fragments_end</th>\n      <th>entry_protein_locations_fragments_dc-status</th>\n      <th>entry_protein_locations_model</th>\n      <th>entry_protein_locations_score</th>\n      <th>protein_length</th>\n      <th>source_database</th>\n      <th>entry_type</th>\n      <th>entry_integrated</th>\n    </tr>\n  </thead>\n  <tbody>\n    <tr>\n      <th>0</th>\n      <td>0</td>\n      <td>PF03060</td>\n      <td>5</td>\n      <td>345</td>\n      <td>CONTINUOUS</td>\n      <td>PF03060</td>\n      <td>3.000000e-91</td>\n      <td>355</td>\n      <td>pfam</td>\n      <td>domain</td>\n      <td>ipr004136</td>\n    </tr>\n    <tr>\n      <th>1</th>\n      <td>1</td>\n      <td>PF03060</td>\n      <td>5</td>\n      <td>345</td>\n      <td>CONTINUOUS</td>\n      <td>PF03060</td>\n      <td>3.400000e-91</td>\n      <td>355</td>\n      <td>pfam</td>\n      <td>domain</td>\n      <td>ipr004136</td>\n    </tr>\n    <tr>\n      <th>2</th>\n      <td>2</td>\n      <td>PF03060</td>\n      <td>5</td>\n      <td>345</td>\n      <td>CONTINUOUS</td>\n      <td>PF03060</td>\n      <td>3.000000e-91</td>\n      <td>355</td>\n      <td>pfam</td>\n      <td>domain</td>\n      <td>ipr004136</td>\n    </tr>\n    <tr>\n      <th>3</th>\n      <td>3</td>\n      <td>PF03060</td>\n      <td>5</td>\n      <td>345</td>\n      <td>CONTINUOUS</td>\n      <td>PF03060</td>\n      <td>3.400000e-91</td>\n      <td>355</td>\n      <td>pfam</td>\n      <td>domain</td>\n      <td>ipr004136</td>\n    </tr>\n    <tr>\n      <th>4</th>\n      <td>4</td>\n      <td>PF03060</td>\n      <td>10</td>\n      <td>350</td>\n      <td>CONTINUOUS</td>\n      <td>PF03060</td>\n      <td>2.300000e-76</td>\n      <td>366</td>\n      <td>pfam</td>\n      <td>domain</td>\n      <td>ipr004136</td>\n    </tr>\n  </tbody>\n</table>\n</div>"
     },
     "metadata": {},
     "execution_count": 3
    }
   ],
   "source": [
    "entries.head(5)"
   ]
  },
  {
   "source": [
    "# 8 - Evaluate Ability of Matching sequences\n",
    "Once we made the PSI-BLAST e HMM-searches we will have some files where all the sequences are... we should:\n",
    "- Find a format that we can parse (there should be options in the documentations of thevarious methods);\n",
    "- Decide a threshold for the E-value and take all the hits that are below that E value;\n",
    "- All the remaining sequences (call them OUT_SEQs)are the ones that, according to our model, belong to the Domain family.\n",
    "- Make a Confusion Matrix comparing OUT_SEQs with the ground truth.\n",
    "- compute accuracy, sensitivity, specificty etc\n",
    "\n"
   ],
   "cell_type": "markdown",
   "metadata": {}
  },
  {
   "source": [
    "# 9 - Evualuate the ability of matching domain position\n",
    "\n",
    "Questo si può fare solo con HMM... cfr .domtblout files..."
   ],
   "cell_type": "markdown",
   "metadata": {}
  },
  {
   "cell_type": "code",
   "execution_count": null,
   "metadata": {},
   "outputs": [],
   "source": []
  }
 ],
 "metadata": {
  "kernelspec": {
   "name": "python3",
   "display_name": "Python 3.7.9 64-bit",
   "metadata": {
    "interpreter": {
     "hash": "0600588c3b5f4418cbe7b5ebc6825b479f3bc010269d8b60d75058cdd010adfe"
    }
   }
  },
  "language_info": {
   "codemirror_mode": {
    "name": "ipython",
    "version": 3
   },
   "file_extension": ".py",
   "mimetype": "text/x-python",
   "name": "python",
   "nbconvert_exporter": "python",
   "pygments_lexer": "ipython3",
   "version": "3.7.9-final"
  }
 },
 "nbformat": 4,
 "nbformat_minor": 5
}