{
 "cells": [
  {
   "cell_type": "markdown",
   "id": "military-penetration",
   "metadata": {},
   "source": [
    "# Project"
   ]
  },
  {
   "cell_type": "markdown",
   "id": "alpine-hydrogen",
   "metadata": {},
   "source": [
    "## Download Data"
   ]
  },
  {
   "cell_type": "code",
   "execution_count": 1,
   "id": "assumed-summit",
   "metadata": {},
   "outputs": [],
   "source": [
    "import urllib\n",
    "import json\n",
    "import pandas as pd\n",
    "from bd_addons.interpro_data import *\n",
    "from bd_addons.HmmPy import *\n",
    "from bd_addons.metrics import *\n",
    "from Bio import SearchIO, SeqIO\n",
    "import matplotlib.pyplot as plt\n",
    "import seaborn as sns\n",
    "import numpy as np\n",
    "import random\n",
    "sns.set_theme()\n",
    "sns.set_style(\"whitegrid\")\n",
    "\n",
    "url = \"https://www.ebi.ac.uk/interpro/api/protein/reviewed/entry/pfam/pf03060?format=json\""
   ]
  },
  {
   "cell_type": "code",
   "execution_count": 2,
   "metadata": {},
   "outputs": [],
   "source": [
    "metadata, entries, gt = get_data(url, 1)"
   ]
  },
  {
   "source": [
    "\n",
    "# 8 - Evaluate Ability of Matching sequences\n",
    "Once we made the PSI-BLAST e HMM-searches we will have some files where all the sequences are... we should:\n",
    "\n",
    "- Find a format that we can parse (there should be options in the documentations of thevarious methods);\n",
    "- Decide a threshold for the E-value and take all the hits that are below that E value;\n",
    "- All the remaining sequences (call them OUT_SEQs)are the ones that, according to our model, belong to the Domain family.\n",
    "- Make a Confusion Matrix comparing OUT_SEQs with the ground truth.\n",
    "- compute accuracy, sensitivity, specificty etc"
   ],
   "cell_type": "markdown",
   "metadata": {}
  },
  {
   "source": [
    "## HMM Searches Performance"
   ],
   "cell_type": "markdown",
   "metadata": {}
  },
  {
   "cell_type": "code",
   "execution_count": 3,
   "metadata": {},
   "outputs": [
    {
     "output_type": "error",
     "ename": "FileNotFoundError",
     "evalue": "[Errno 2] No such file or directory: '/Users/gianmarco/Documents/GitHub/BD_Project_DS\\\\data_team_1\\\\HMMs\\\\HMM_C\\\\to_parse'",
     "traceback": [
      "\u001b[0;31m---------------------------------------------------------------------------\u001b[0m",
      "\u001b[0;31mFileNotFoundError\u001b[0m                         Traceback (most recent call last)",
      "\u001b[0;32m<ipython-input-3-ff696b04278e>\u001b[0m in \u001b[0;36m<module>\u001b[0;34m\u001b[0m\n\u001b[0;32m----> 1\u001b[0;31m \u001b[0mmetrics_df\u001b[0m\u001b[0;34m,\u001b[0m \u001b[0mparsed_tblouts\u001b[0m\u001b[0;34m,\u001b[0m \u001b[0mparsed_domtblouts\u001b[0m\u001b[0;34m,\u001b[0m \u001b[0mparsed_psiblast\u001b[0m \u001b[0;34m=\u001b[0m \u001b[0mmetrics_8\u001b[0m\u001b[0;34m(\u001b[0m\u001b[0mgt\u001b[0m\u001b[0;34m)\u001b[0m\u001b[0;34m\u001b[0m\u001b[0;34m\u001b[0m\u001b[0m\n\u001b[0m",
      "\u001b[0;32m~/Documents/GitHub/BD_Project_DS/bd_addons/metrics.py\u001b[0m in \u001b[0;36mmetrics_8\u001b[0;34m(gt)\u001b[0m\n\u001b[1;32m     93\u001b[0m \u001b[0;34m\u001b[0m\u001b[0m\n\u001b[1;32m     94\u001b[0m \u001b[0;32mdef\u001b[0m \u001b[0mmetrics_8\u001b[0m\u001b[0;34m(\u001b[0m\u001b[0mgt\u001b[0m\u001b[0;34m)\u001b[0m\u001b[0;34m:\u001b[0m\u001b[0;34m\u001b[0m\u001b[0;34m\u001b[0m\u001b[0m\n\u001b[0;32m---> 95\u001b[0;31m     \u001b[0mparsed_tblouts\u001b[0m\u001b[0;34m,\u001b[0m \u001b[0mparsed_domtblouts\u001b[0m \u001b[0;34m=\u001b[0m \u001b[0mparse_hmms\u001b[0m\u001b[0;34m(\u001b[0m\u001b[0;34m)\u001b[0m\u001b[0;34m\u001b[0m\u001b[0;34m\u001b[0m\u001b[0m\n\u001b[0m\u001b[1;32m     96\u001b[0m     \u001b[0mparsed_psiblast\u001b[0m \u001b[0;34m=\u001b[0m \u001b[0mparse_psiblast\u001b[0m\u001b[0;34m(\u001b[0m\u001b[0;34m)\u001b[0m\u001b[0;34m\u001b[0m\u001b[0;34m\u001b[0m\u001b[0m\n\u001b[1;32m     97\u001b[0m \u001b[0;34m\u001b[0m\u001b[0m\n",
      "\u001b[0;32m~/Documents/GitHub/BD_Project_DS/bd_addons/HmmPy.py\u001b[0m in \u001b[0;36mparse_hmms\u001b[0;34m()\u001b[0m\n\u001b[1;32m     88\u001b[0m \u001b[0;34m\u001b[0m\u001b[0m\n\u001b[1;32m     89\u001b[0m     \u001b[0;32mfor\u001b[0m \u001b[0mi\u001b[0m\u001b[0;34m,\u001b[0m \u001b[0mdir\u001b[0m \u001b[0;32min\u001b[0m \u001b[0menumerate\u001b[0m\u001b[0;34m(\u001b[0m\u001b[0mdirs_to_parse\u001b[0m\u001b[0;34m)\u001b[0m\u001b[0;34m:\u001b[0m\u001b[0;34m\u001b[0m\u001b[0;34m\u001b[0m\u001b[0m\n\u001b[0;32m---> 90\u001b[0;31m         \u001b[0mfiles\u001b[0m \u001b[0;34m=\u001b[0m \u001b[0mos\u001b[0m\u001b[0;34m.\u001b[0m\u001b[0mlistdir\u001b[0m\u001b[0;34m(\u001b[0m\u001b[0mdir\u001b[0m\u001b[0;34m)\u001b[0m\u001b[0;34m\u001b[0m\u001b[0;34m\u001b[0m\u001b[0m\n\u001b[0m\u001b[1;32m     91\u001b[0m         \u001b[0;32mfor\u001b[0m \u001b[0mfilename\u001b[0m \u001b[0;32min\u001b[0m \u001b[0mfiles\u001b[0m\u001b[0;34m:\u001b[0m\u001b[0;34m\u001b[0m\u001b[0;34m\u001b[0m\u001b[0m\n\u001b[1;32m     92\u001b[0m             \u001b[0mfilename\u001b[0m \u001b[0;34m=\u001b[0m \u001b[0mfilename\u001b[0m\u001b[0;34m.\u001b[0m\u001b[0msplit\u001b[0m\u001b[0;34m(\u001b[0m\u001b[0;34m'.'\u001b[0m\u001b[0;34m)\u001b[0m\u001b[0;34m\u001b[0m\u001b[0;34m\u001b[0m\u001b[0m\n",
      "\u001b[0;31mFileNotFoundError\u001b[0m: [Errno 2] No such file or directory: '/Users/gianmarco/Documents/GitHub/BD_Project_DS\\\\data_team_1\\\\HMMs\\\\HMM_C\\\\to_parse'"
     ]
    }
   ],
   "source": [
    "metrics_df, parsed_tblouts, parsed_domtblouts, parsed_psiblast = metrics_8(gt)"
   ]
  },
  {
   "cell_type": "code",
   "execution_count": 4,
   "metadata": {},
   "outputs": [
    {
     "output_type": "execute_result",
     "data": {
      "text/plain": [
       "                                                    accuracy  precision  \\\n",
       "hmmsearch_out_C_1_denoised1_swissprot.domtblout     0.996202   0.010624   \n",
       "hmmsearch_out_C_1_swissprot.domtblout               0.996230   0.010703   \n",
       "hmmsearch_out_M_1.domtblout                         0.996236   0.010718   \n",
       "hmmsearch_out_O_1.domtblout                         0.996230   0.010703   \n",
       "out_psiblast_C_1_denoised1_swissprot_1iteration...  0.999759   0.140127   \n",
       "out_psiblast_C_1_denoised1_swissprot_2iteration...  0.999083   0.042593   \n",
       "out_psiblast_C_1_denoised1_swissprot_3iteration...  0.998876   0.035008   \n",
       "out_psiblast_C_1_swissprot_1iterations.xml          0.999817   0.177419   \n",
       "out_psiblast_C_1_swissprot_2iterations.xml          0.999131   0.044834   \n",
       "out_psiblast_C_1_swissprot_3iterations.xml          0.998977   0.038333   \n",
       "out_psiblast_M_1.xml                                0.999154   0.046000   \n",
       "out_psiblast_M_3_uniref90_1iterations.xml           0.999823   0.181818   \n",
       "out_psiblast_M_3_uniref90_2iterations.xml           0.999126   0.042802   \n",
       "out_psiblast_O_1.xml                                0.999154   0.046000   \n",
       "out_psiblast_O_3_uniref90_1iterations.xml           0.999603   0.089796   \n",
       "out_psiblast_O_3_uniref90_2iterations.xml           0.998979   0.036851   \n",
       "\n",
       "                                                      recall  specificity  \\\n",
       "hmmsearch_out_C_1_denoised1_swissprot.domtblout     1.000000     0.996202   \n",
       "hmmsearch_out_C_1_swissprot.domtblout               1.000000     0.996230   \n",
       "hmmsearch_out_M_1.domtblout                         1.000000     0.996235   \n",
       "hmmsearch_out_O_1.domtblout                         1.000000     0.996230   \n",
       "out_psiblast_C_1_denoised1_swissprot_1iteration...  0.956522     0.999761   \n",
       "out_psiblast_C_1_denoised1_swissprot_2iteration...  1.000000     0.999083   \n",
       "out_psiblast_C_1_denoised1_swissprot_3iteration...  1.000000     0.998876   \n",
       "out_psiblast_C_1_swissprot_1iterations.xml          0.956522     0.999819   \n",
       "out_psiblast_C_1_swissprot_2iterations.xml          1.000000     0.999131   \n",
       "out_psiblast_C_1_swissprot_3iterations.xml          1.000000     0.998977   \n",
       "out_psiblast_M_1.xml                                1.000000     0.999154   \n",
       "out_psiblast_M_3_uniref90_1iterations.xml           0.956522     0.999824   \n",
       "out_psiblast_M_3_uniref90_2iterations.xml           0.956522     0.999128   \n",
       "out_psiblast_O_1.xml                                1.000000     0.999154   \n",
       "out_psiblast_O_3_uniref90_1iterations.xml           0.956522     0.999605   \n",
       "out_psiblast_O_3_uniref90_2iterations.xml           0.956522     0.998980   \n",
       "\n",
       "                                                    balanced_accuracy  \\\n",
       "hmmsearch_out_C_1_denoised1_swissprot.domtblout              0.998101   \n",
       "hmmsearch_out_C_1_swissprot.domtblout                        0.998115   \n",
       "hmmsearch_out_M_1.domtblout                                  0.998118   \n",
       "hmmsearch_out_O_1.domtblout                                  0.998115   \n",
       "out_psiblast_C_1_denoised1_swissprot_1iteration...           0.978141   \n",
       "out_psiblast_C_1_denoised1_swissprot_2iteration...           0.999542   \n",
       "out_psiblast_C_1_denoised1_swissprot_3iteration...           0.999438   \n",
       "out_psiblast_C_1_swissprot_1iterations.xml                   0.978170   \n",
       "out_psiblast_C_1_swissprot_2iterations.xml                   0.999566   \n",
       "out_psiblast_C_1_swissprot_3iterations.xml                   0.999488   \n",
       "out_psiblast_M_1.xml                                         0.999577   \n",
       "out_psiblast_M_3_uniref90_1iterations.xml                    0.978173   \n",
       "out_psiblast_M_3_uniref90_2iterations.xml                    0.977825   \n",
       "out_psiblast_O_1.xml                                         0.999577   \n",
       "out_psiblast_O_3_uniref90_1iterations.xml                    0.978063   \n",
       "out_psiblast_O_3_uniref90_2iterations.xml                    0.977751   \n",
       "\n",
       "                                                         mcc  f1_score  \n",
       "hmmsearch_out_C_1_denoised1_swissprot.domtblout     0.102875  0.021024  \n",
       "hmmsearch_out_C_1_swissprot.domtblout               0.103258  0.021179  \n",
       "hmmsearch_out_M_1.domtblout                         0.103331  0.021208  \n",
       "hmmsearch_out_O_1.domtblout                         0.103258  0.021179  \n",
       "out_psiblast_C_1_denoised1_swissprot_1iteration...  0.366060  0.244444  \n",
       "out_psiblast_C_1_denoised1_swissprot_2iteration...  0.206285  0.081705  \n",
       "out_psiblast_C_1_denoised1_swissprot_3iteration...  0.186998  0.067647  \n",
       "out_psiblast_C_1_swissprot_1iterations.xml          0.411912  0.299320  \n",
       "out_psiblast_C_1_swissprot_2iterations.xml          0.211649  0.085821  \n",
       "out_psiblast_C_1_swissprot_3iterations.xml          0.195689  0.073836  \n",
       "out_psiblast_M_1.xml                                0.214385  0.087954  \n",
       "out_psiblast_M_3_uniref90_1iterations.xml           0.416989  0.305556  \n",
       "out_psiblast_M_3_uniref90_2iterations.xml           0.202241  0.081937  \n",
       "out_psiblast_O_1.xml                                0.214385  0.087954  \n",
       "out_psiblast_O_3_uniref90_1iterations.xml           0.293009  0.164179  \n",
       "out_psiblast_O_3_uniref90_2iterations.xml           0.187642  0.070968  "
      ],
      "text/html": "<div>\n<style scoped>\n    .dataframe tbody tr th:only-of-type {\n        vertical-align: middle;\n    }\n\n    .dataframe tbody tr th {\n        vertical-align: top;\n    }\n\n    .dataframe thead th {\n        text-align: right;\n    }\n</style>\n<table border=\"1\" class=\"dataframe\">\n  <thead>\n    <tr style=\"text-align: right;\">\n      <th></th>\n      <th>accuracy</th>\n      <th>precision</th>\n      <th>recall</th>\n      <th>specificity</th>\n      <th>balanced_accuracy</th>\n      <th>mcc</th>\n      <th>f1_score</th>\n    </tr>\n  </thead>\n  <tbody>\n    <tr>\n      <th>hmmsearch_out_C_1_denoised1_swissprot.domtblout</th>\n      <td>0.996202</td>\n      <td>0.010624</td>\n      <td>1.000000</td>\n      <td>0.996202</td>\n      <td>0.998101</td>\n      <td>0.102875</td>\n      <td>0.021024</td>\n    </tr>\n    <tr>\n      <th>hmmsearch_out_C_1_swissprot.domtblout</th>\n      <td>0.996230</td>\n      <td>0.010703</td>\n      <td>1.000000</td>\n      <td>0.996230</td>\n      <td>0.998115</td>\n      <td>0.103258</td>\n      <td>0.021179</td>\n    </tr>\n    <tr>\n      <th>hmmsearch_out_M_1.domtblout</th>\n      <td>0.996236</td>\n      <td>0.010718</td>\n      <td>1.000000</td>\n      <td>0.996235</td>\n      <td>0.998118</td>\n      <td>0.103331</td>\n      <td>0.021208</td>\n    </tr>\n    <tr>\n      <th>hmmsearch_out_O_1.domtblout</th>\n      <td>0.996230</td>\n      <td>0.010703</td>\n      <td>1.000000</td>\n      <td>0.996230</td>\n      <td>0.998115</td>\n      <td>0.103258</td>\n      <td>0.021179</td>\n    </tr>\n    <tr>\n      <th>out_psiblast_C_1_denoised1_swissprot_1iterations.xml</th>\n      <td>0.999759</td>\n      <td>0.140127</td>\n      <td>0.956522</td>\n      <td>0.999761</td>\n      <td>0.978141</td>\n      <td>0.366060</td>\n      <td>0.244444</td>\n    </tr>\n    <tr>\n      <th>out_psiblast_C_1_denoised1_swissprot_2iterations.xml</th>\n      <td>0.999083</td>\n      <td>0.042593</td>\n      <td>1.000000</td>\n      <td>0.999083</td>\n      <td>0.999542</td>\n      <td>0.206285</td>\n      <td>0.081705</td>\n    </tr>\n    <tr>\n      <th>out_psiblast_C_1_denoised1_swissprot_3iterations.xml</th>\n      <td>0.998876</td>\n      <td>0.035008</td>\n      <td>1.000000</td>\n      <td>0.998876</td>\n      <td>0.999438</td>\n      <td>0.186998</td>\n      <td>0.067647</td>\n    </tr>\n    <tr>\n      <th>out_psiblast_C_1_swissprot_1iterations.xml</th>\n      <td>0.999817</td>\n      <td>0.177419</td>\n      <td>0.956522</td>\n      <td>0.999819</td>\n      <td>0.978170</td>\n      <td>0.411912</td>\n      <td>0.299320</td>\n    </tr>\n    <tr>\n      <th>out_psiblast_C_1_swissprot_2iterations.xml</th>\n      <td>0.999131</td>\n      <td>0.044834</td>\n      <td>1.000000</td>\n      <td>0.999131</td>\n      <td>0.999566</td>\n      <td>0.211649</td>\n      <td>0.085821</td>\n    </tr>\n    <tr>\n      <th>out_psiblast_C_1_swissprot_3iterations.xml</th>\n      <td>0.998977</td>\n      <td>0.038333</td>\n      <td>1.000000</td>\n      <td>0.998977</td>\n      <td>0.999488</td>\n      <td>0.195689</td>\n      <td>0.073836</td>\n    </tr>\n    <tr>\n      <th>out_psiblast_M_1.xml</th>\n      <td>0.999154</td>\n      <td>0.046000</td>\n      <td>1.000000</td>\n      <td>0.999154</td>\n      <td>0.999577</td>\n      <td>0.214385</td>\n      <td>0.087954</td>\n    </tr>\n    <tr>\n      <th>out_psiblast_M_3_uniref90_1iterations.xml</th>\n      <td>0.999823</td>\n      <td>0.181818</td>\n      <td>0.956522</td>\n      <td>0.999824</td>\n      <td>0.978173</td>\n      <td>0.416989</td>\n      <td>0.305556</td>\n    </tr>\n    <tr>\n      <th>out_psiblast_M_3_uniref90_2iterations.xml</th>\n      <td>0.999126</td>\n      <td>0.042802</td>\n      <td>0.956522</td>\n      <td>0.999128</td>\n      <td>0.977825</td>\n      <td>0.202241</td>\n      <td>0.081937</td>\n    </tr>\n    <tr>\n      <th>out_psiblast_O_1.xml</th>\n      <td>0.999154</td>\n      <td>0.046000</td>\n      <td>1.000000</td>\n      <td>0.999154</td>\n      <td>0.999577</td>\n      <td>0.214385</td>\n      <td>0.087954</td>\n    </tr>\n    <tr>\n      <th>out_psiblast_O_3_uniref90_1iterations.xml</th>\n      <td>0.999603</td>\n      <td>0.089796</td>\n      <td>0.956522</td>\n      <td>0.999605</td>\n      <td>0.978063</td>\n      <td>0.293009</td>\n      <td>0.164179</td>\n    </tr>\n    <tr>\n      <th>out_psiblast_O_3_uniref90_2iterations.xml</th>\n      <td>0.998979</td>\n      <td>0.036851</td>\n      <td>0.956522</td>\n      <td>0.998980</td>\n      <td>0.977751</td>\n      <td>0.187642</td>\n      <td>0.070968</td>\n    </tr>\n  </tbody>\n</table>\n</div>"
     },
     "metadata": {},
     "execution_count": 4
    }
   ],
   "source": [
    "metrics_df"
   ]
  },
  {
   "cell_type": "code",
   "execution_count": null,
   "metadata": {},
   "outputs": [],
   "source": [
    "col= list(metrics_df.columns)\n",
    "x = np.arange(metrics_df.shape[0])\n",
    "c = np.random.rand(metrics_df.shape[0],3)\n",
    "for i in col:\n",
    "    fig, ax = plt.subplots(figsize=(20,10))\n",
    "    ax.bar(df.index,list(metrics_df[i]), color = c)\n",
    "    ax.set_xticks(x)\n",
    "    ax.set_xticklabels(metrics_df.index, rotation=65)\n",
    "    ax.set_ylim((0,1))\n",
    "    plt.title(i)\n",
    "    #fig.savefig(i+\".png\")"
   ]
  },
  {
   "source": [
    "# 9 - Evualuate the ability of matching domain positions"
   ],
   "cell_type": "markdown",
   "metadata": {}
  },
  {
   "cell_type": "code",
   "execution_count": null,
   "metadata": {},
   "outputs": [],
   "source": []
  }
 ],
 "metadata": {
  "kernelspec": {
   "name": "python3",
   "display_name": "Python 3",
   "language": "python"
  },
  "language_info": {
   "codemirror_mode": {
    "name": "ipython",
    "version": 3
   },
   "file_extension": ".py",
   "mimetype": "text/x-python",
   "name": "python",
   "nbconvert_exporter": "python",
   "pygments_lexer": "ipython3",
   "version": "3.7.9-final"
  }
 },
 "nbformat": 4,
 "nbformat_minor": 5
}