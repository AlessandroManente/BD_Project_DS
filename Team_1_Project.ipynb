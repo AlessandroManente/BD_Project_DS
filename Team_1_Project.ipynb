{
 "cells": [
  {
   "cell_type": "markdown",
   "id": "military-penetration",
   "metadata": {},
   "source": [
    "# Project"
   ]
  },
  {
   "cell_type": "markdown",
   "id": "alpine-hydrogen",
   "metadata": {},
   "source": [
    "## Download Data"
   ]
  },
  {
   "cell_type": "code",
   "execution_count": 1,
   "id": "assumed-summit",
   "metadata": {},
   "outputs": [],
   "source": [
    "import urllib\n",
    "import json\n",
    "import pandas as pd\n",
    "from bd_addons.interpro_data import *\n",
    "from bd_addons.HmmPy import *\n",
    "from bd_addons.metrics import *\n",
    "from Bio import SearchIO, SeqIO\n",
    "\n",
    "url = \"https://www.ebi.ac.uk/interpro/api/protein/reviewed/entry/pfam/pf03060?format=json\""
   ]
  },
  {
   "cell_type": "code",
   "execution_count": 2,
   "metadata": {},
   "outputs": [],
   "source": [
    "metadata, entries, gt = get_data(url, 1)"
   ]
  },
  {
   "source": [
    "\n",
    "# 8 - Evaluate Ability of Matching sequences\n",
    "Once we made the PSI-BLAST e HMM-searches we will have some files where all the sequences are... we should:\n",
    "\n",
    "- Find a format that we can parse (there should be options in the documentations of thevarious methods);\n",
    "- Decide a threshold for the E-value and take all the hits that are below that E value;\n",
    "- All the remaining sequences (call them OUT_SEQs)are the ones that, according to our model, belong to the Domain family.\n",
    "- Make a Confusion Matrix comparing OUT_SEQs with the ground truth.\n",
    "- compute accuracy, sensitivity, specificty etc"
   ],
   "cell_type": "markdown",
   "metadata": {}
  },
  {
   "source": [
    "## HMM Searches Performance"
   ],
   "cell_type": "markdown",
   "metadata": {}
  },
  {
   "cell_type": "code",
   "execution_count": 3,
   "metadata": {},
   "outputs": [
    {
     "output_type": "stream",
     "name": "stdout",
     "text": [
      "The name file or folder is incorrect.                  An error has occurred.\n"
     ]
    },
    {
     "output_type": "error",
     "ename": "FileNotFoundError",
     "evalue": "[Errno 2] No such file or directory: 'c:\\\\Users\\\\manen\\\\Desktop\\\\BD_Project\\\\code\\\\BD_Project_DS\\\\data_team_1\\\\HMMs\\\\HMM_M\\\\hmmsearch_out_M_1_swissprot.tblout'",
     "traceback": [
      "\u001b[1;31m---------------------------------------------------------------------------\u001b[0m",
      "\u001b[1;31mFileNotFoundError\u001b[0m                         Traceback (most recent call last)",
      "\u001b[1;32m<ipython-input-3-5b986b6a7020>\u001b[0m in \u001b[0;36m<module>\u001b[1;34m\u001b[0m\n\u001b[1;32m----> 1\u001b[1;33m \u001b[0mparsed_hmm_t_C_df\u001b[0m\u001b[1;33m,\u001b[0m \u001b[0mparsed_hmm_t_M_df\u001b[0m\u001b[1;33m,\u001b[0m \u001b[0mparsed_hmm_t_O_df\u001b[0m \u001b[1;33m=\u001b[0m \u001b[0mparse_tblouts\u001b[0m\u001b[1;33m(\u001b[0m\u001b[1;33m)\u001b[0m\u001b[1;33m\u001b[0m\u001b[1;33m\u001b[0m\u001b[0m\n\u001b[0m",
      "\u001b[1;32mc:\\Users\\manen\\Desktop\\BD_Project\\code\\BD_Project_DS\\bd_addons\\HmmPy.py\u001b[0m in \u001b[0;36mparse_tblouts\u001b[1;34m()\u001b[0m\n\u001b[0;32m     41\u001b[0m \u001b[1;33m\u001b[0m\u001b[0m\n\u001b[0;32m     42\u001b[0m     \u001b[1;32mfor\u001b[0m \u001b[0mfilename\u001b[0m \u001b[1;32min\u001b[0m \u001b[0mdirs\u001b[0m\u001b[1;33m:\u001b[0m\u001b[1;33m\u001b[0m\u001b[1;33m\u001b[0m\u001b[0m\n\u001b[1;32m---> 43\u001b[1;33m         \u001b[0mparsed_dfs\u001b[0m\u001b[1;33m.\u001b[0m\u001b[0mappend\u001b[0m\u001b[1;33m(\u001b[0m\u001b[0mread_tblout\u001b[0m\u001b[1;33m(\u001b[0m\u001b[0mfilename\u001b[0m\u001b[1;33m)\u001b[0m\u001b[1;33m)\u001b[0m\u001b[1;33m\u001b[0m\u001b[1;33m\u001b[0m\u001b[0m\n\u001b[0m\u001b[0;32m     44\u001b[0m \u001b[1;33m\u001b[0m\u001b[0m\n\u001b[0;32m     45\u001b[0m     \u001b[1;32mreturn\u001b[0m \u001b[0mparsed_dfs\u001b[0m\u001b[1;33m[\u001b[0m\u001b[1;36m0\u001b[0m\u001b[1;33m]\u001b[0m\u001b[1;33m,\u001b[0m \u001b[0mparsed_dfs\u001b[0m\u001b[1;33m[\u001b[0m\u001b[1;36m1\u001b[0m\u001b[1;33m]\u001b[0m\u001b[1;33m,\u001b[0m \u001b[0mparsed_dfs\u001b[0m\u001b[1;33m[\u001b[0m\u001b[1;36m2\u001b[0m\u001b[1;33m]\u001b[0m\u001b[1;33m\u001b[0m\u001b[1;33m\u001b[0m\u001b[0m\n",
      "\u001b[1;32mc:\\Users\\manen\\Desktop\\BD_Project\\code\\BD_Project_DS\\bd_addons\\HmmPy.py\u001b[0m in \u001b[0;36mread_tblout\u001b[1;34m(filename)\u001b[0m\n\u001b[0;32m     56\u001b[0m \u001b[1;32mdef\u001b[0m \u001b[0mread_tblout\u001b[0m\u001b[1;33m(\u001b[0m\u001b[0mfilename\u001b[0m\u001b[1;33m)\u001b[0m\u001b[1;33m:\u001b[0m\u001b[1;33m\u001b[0m\u001b[1;33m\u001b[0m\u001b[0m\n\u001b[0;32m     57\u001b[0m     \u001b[1;32mif\u001b[0m \u001b[0mmy_split\u001b[0m\u001b[1;33m(\u001b[0m\u001b[0mfilename\u001b[0m\u001b[1;33m)\u001b[0m\u001b[1;33m[\u001b[0m\u001b[1;33m-\u001b[0m\u001b[1;36m1\u001b[0m\u001b[1;33m]\u001b[0m\u001b[1;33m[\u001b[0m\u001b[1;33m:\u001b[0m\u001b[1;33m-\u001b[0m\u001b[1;36m7\u001b[0m\u001b[1;33m]\u001b[0m \u001b[1;33m+\u001b[0m \u001b[1;34m'_tblout.csv'\u001b[0m \u001b[1;32mnot\u001b[0m \u001b[1;32min\u001b[0m \u001b[0mos\u001b[0m\u001b[1;33m.\u001b[0m\u001b[0mlistdir\u001b[0m\u001b[1;33m(\u001b[0m\u001b[1;34m'\\\\'\u001b[0m\u001b[1;33m.\u001b[0m\u001b[0mjoin\u001b[0m\u001b[1;33m(\u001b[0m\u001b[0mmy_split\u001b[0m\u001b[1;33m(\u001b[0m\u001b[0mfilename\u001b[0m\u001b[1;33m)\u001b[0m\u001b[1;33m[\u001b[0m\u001b[1;33m:\u001b[0m\u001b[1;33m-\u001b[0m\u001b[1;36m1\u001b[0m\u001b[1;33m]\u001b[0m\u001b[1;33m)\u001b[0m\u001b[1;33m)\u001b[0m\u001b[1;33m:\u001b[0m\u001b[1;33m\u001b[0m\u001b[1;33m\u001b[0m\u001b[0m\n\u001b[1;32m---> 58\u001b[1;33m         \u001b[0mparser\u001b[0m \u001b[1;33m=\u001b[0m \u001b[0mHMMparser\u001b[0m\u001b[1;33m(\u001b[0m\u001b[0mfilename\u001b[0m\u001b[1;33m,\u001b[0m \u001b[1;34m'tblouts'\u001b[0m\u001b[1;33m)\u001b[0m\u001b[1;33m\u001b[0m\u001b[1;33m\u001b[0m\u001b[0m\n\u001b[0m\u001b[0;32m     59\u001b[0m         \u001b[0mparsed\u001b[0m \u001b[1;33m=\u001b[0m \u001b[0mparser\u001b[0m\u001b[1;33m.\u001b[0m\u001b[0mhmmscanParser\u001b[0m\u001b[1;33m(\u001b[0m\u001b[1;33m)\u001b[0m\u001b[1;33m\u001b[0m\u001b[1;33m\u001b[0m\u001b[0m\n\u001b[0;32m     60\u001b[0m         \u001b[0mparsed_df\u001b[0m \u001b[1;33m=\u001b[0m \u001b[0mpd\u001b[0m\u001b[1;33m.\u001b[0m\u001b[0mDataFrame\u001b[0m\u001b[1;33m(\u001b[0m\u001b[0mcolumns\u001b[0m \u001b[1;33m=\u001b[0m \u001b[0mattribs_tblouts\u001b[0m\u001b[1;33m)\u001b[0m\u001b[1;33m\u001b[0m\u001b[1;33m\u001b[0m\u001b[0m\n",
      "\u001b[1;32mc:\\Users\\manen\\Desktop\\BD_Project\\code\\BD_Project_DS\\bd_addons\\HmmPy.py\u001b[0m in \u001b[0;36m__init__\u001b[1;34m(self, HMMfile, type)\u001b[0m\n\u001b[0;32m    108\u001b[0m             print(\"The name file or folder is incorrect.\\\n\u001b[0;32m    109\u001b[0m                   An error has occurred.\")\n\u001b[1;32m--> 110\u001b[1;33m             \u001b[1;32mraise\u001b[0m \u001b[0me\u001b[0m\u001b[1;33m\u001b[0m\u001b[1;33m\u001b[0m\u001b[0m\n\u001b[0m\u001b[0;32m    111\u001b[0m         \u001b[0mself\u001b[0m\u001b[1;33m.\u001b[0m\u001b[0mparameters\u001b[0m \u001b[1;33m=\u001b[0m \u001b[1;33m{\u001b[0m\u001b[1;33m}\u001b[0m  \u001b[1;31m# dict_keys([\"Target file\", \"Option settings\", \"Program\", \"Version\", \"Date\", \"Current dir\", \"Pipeline mode\", \"Query file\"])\u001b[0m\u001b[1;33m\u001b[0m\u001b[1;33m\u001b[0m\u001b[0m\n\u001b[0;32m    112\u001b[0m         \u001b[1;32mfor\u001b[0m \u001b[0mi\u001b[0m\u001b[1;33m,\u001b[0m \u001b[0mline\u001b[0m \u001b[1;32min\u001b[0m \u001b[0menumerate\u001b[0m\u001b[1;33m(\u001b[0m\u001b[0mself\u001b[0m\u001b[1;33m.\u001b[0m\u001b[0mdata_HMMfile\u001b[0m\u001b[1;33m.\u001b[0m\u001b[0msplit\u001b[0m\u001b[1;33m(\u001b[0m\u001b[1;34m\"\\n\"\u001b[0m\u001b[1;33m)\u001b[0m\u001b[1;33m[\u001b[0m\u001b[1;33m-\u001b[0m\u001b[1;36m10\u001b[0m\u001b[1;33m:\u001b[0m\u001b[1;33m-\u001b[0m\u001b[1;36m2\u001b[0m\u001b[1;33m]\u001b[0m\u001b[1;33m)\u001b[0m\u001b[1;33m:\u001b[0m\u001b[1;33m\u001b[0m\u001b[1;33m\u001b[0m\u001b[0m\n",
      "\u001b[1;32mc:\\Users\\manen\\Desktop\\BD_Project\\code\\BD_Project_DS\\bd_addons\\HmmPy.py\u001b[0m in \u001b[0;36m__init__\u001b[1;34m(self, HMMfile, type)\u001b[0m\n\u001b[0;32m    104\u001b[0m         \u001b[0mself\u001b[0m\u001b[1;33m.\u001b[0m\u001b[0mHMMfile\u001b[0m \u001b[1;33m=\u001b[0m \u001b[0mHMMfile\u001b[0m\u001b[1;33m\u001b[0m\u001b[1;33m\u001b[0m\u001b[0m\n\u001b[0;32m    105\u001b[0m         \u001b[1;32mtry\u001b[0m\u001b[1;33m:\u001b[0m\u001b[1;33m\u001b[0m\u001b[1;33m\u001b[0m\u001b[0m\n\u001b[1;32m--> 106\u001b[1;33m             \u001b[0mself\u001b[0m\u001b[1;33m.\u001b[0m\u001b[0mdata_HMMfile\u001b[0m \u001b[1;33m=\u001b[0m \u001b[0mopen\u001b[0m\u001b[1;33m(\u001b[0m\u001b[0mself\u001b[0m\u001b[1;33m.\u001b[0m\u001b[0mHMMfile\u001b[0m\u001b[1;33m)\u001b[0m\u001b[1;33m.\u001b[0m\u001b[0mread\u001b[0m\u001b[1;33m(\u001b[0m\u001b[1;33m)\u001b[0m\u001b[1;33m\u001b[0m\u001b[1;33m\u001b[0m\u001b[0m\n\u001b[0m\u001b[0;32m    107\u001b[0m         \u001b[1;32mexcept\u001b[0m \u001b[0mFileNotFoundError\u001b[0m \u001b[1;32mas\u001b[0m \u001b[0me\u001b[0m\u001b[1;33m:\u001b[0m\u001b[1;33m\u001b[0m\u001b[1;33m\u001b[0m\u001b[0m\n\u001b[0;32m    108\u001b[0m             print(\"The name file or folder is incorrect.\\\n",
      "\u001b[1;31mFileNotFoundError\u001b[0m: [Errno 2] No such file or directory: 'c:\\\\Users\\\\manen\\\\Desktop\\\\BD_Project\\\\code\\\\BD_Project_DS\\\\data_team_1\\\\HMMs\\\\HMM_M\\\\hmmsearch_out_M_1_swissprot.tblout'"
     ]
    }
   ],
   "source": [
    "parsed_hmm_t_C_df, parsed_hmm_t_M_df, parsed_hmm_t_O_df = parse_tblouts()"
   ]
  },
  {
   "cell_type": "code",
   "execution_count": 29,
   "metadata": {},
   "outputs": [
    {
     "output_type": "stream",
     "name": "stdout",
     "text": [
      "accuracy 0.9962303093061358 precision 0.010702652396463471\n"
     ]
    }
   ],
   "source": [
    "gt_acc = gt.accession.to_list()\n",
    "swiss_prot = 563972\n",
    "parsed_hmm_t_C_df['in_gt'] = parsed_hmm_t_C_df['target name'].apply(lambda x: split('-', x.replace('|', '-'))[1]).apply(lambda x: 1 if x in gt_acc else 0)\n",
    "# print(parsed_hmm_t_C_df['in_gt'])\n",
    "# parsed_hmm_t_C_df['in_gt'] = parsed_hmm_t_C_df['in_gt'].apply(lambda x: 1 if x in gt_acc else 0)\n",
    "accuracy = (parsed_hmm_t_C_df['in_gt'].sum() + swiss_prot - len(parsed_hmm_t_C_df['in_gt'])) / (swiss_prot)\n",
    "precision = parsed_hmm_t_C_df['in_gt'].sum() / len(parsed_hmm_t_C_df['in_gt'])\n",
    "# recall = parsed_hmm_t_C_df['in_gt'].sum() / (parsed_hmm_t_C_df['in_gt'].sum() + positive in swiss_prot - hmm search)\n",
    "\n",
    "print('accuracy', accuracy, 'precision', precision)"
   ]
  },
  {
   "cell_type": "code",
   "execution_count": 4,
   "metadata": {},
   "outputs": [],
   "source": [
    "parsed_hmm_domt_C_df, parsed_hmm_domt_M_df, parsed_hmm_domt_O_df = parse_domtblouts()"
   ]
  },
  {
   "source": [
    "## PSSM Model Performance (C1)"
   ],
   "cell_type": "markdown",
   "metadata": {}
  },
  {
   "cell_type": "code",
   "execution_count": 4,
   "metadata": {},
   "outputs": [
    {
     "output_type": "stream",
     "name": "stdout",
     "text": [
      ".\\data_team_1\\PSSMs\\PSSM_C\\out_psiblast_C_1_swissprot_2iterations.xml\n"
     ]
    }
   ],
   "source": [
    "iterations = 2\n",
    "xml_path = \".\\data_team_1\\PSSMs\\PSSM_C\\out_psiblast_C_1_swissprot_{}iterations.xml\".format(iterations)\n",
    "print(xml_path)"
   ]
  },
  {
   "cell_type": "code",
   "execution_count": 5,
   "metadata": {
    "tags": []
   },
   "outputs": [],
   "source": [
    "hits_dict = {}\n",
    "blast_records = SearchIO.parse(xml_path, 'blast-xml')\n",
    "for blast_record in blast_records:\n",
    "    for rec in blast_record.hits:\n",
    "        # print(rec.hsps[0].bitscore)\n",
    "        hits_dict.setdefault(\"ids\",[]).append(rec.id.split('|')[1])\n",
    "        hits_dict.setdefault(\"e_value\",[]).append(rec.hsps[0].evalue)\n",
    "        hits_dict.setdefault(\"hit_start\",[]).append(rec.hsps[0].hit_range[0])\n",
    "        hits_dict.setdefault(\"hit_end\",[]).append(rec.hsps[0].hit_range[1])\n",
    "        hits_dict.setdefault(\"bitscore\",[]).append(rec.hsps[0].bitscore)\n",
    "        # hits_list.append((rec.id.split('|')[1], rec.hsps[0].evalue, rec.hsps[0].hit_range))"
   ]
  },
  {
   "cell_type": "code",
   "execution_count": 6,
   "metadata": {},
   "outputs": [],
   "source": [
    "# per alessà: l'ho parsato io alla fine ciao stupidoh\n",
    "# Da fare ora: valutare le varie metriche come hai già fatto con hmm"
   ]
  },
  {
   "cell_type": "code",
   "execution_count": 7,
   "metadata": {},
   "outputs": [
    {
     "output_type": "stream",
     "name": "stdout",
     "text": [
      "(624, 5)\n"
     ]
    },
    {
     "output_type": "execute_result",
     "data": {
      "text/plain": [
       "      ids  e_value  hit_start  hit_end  bitscore\n",
       "0  Q6GB05      0.0          0      355   533.181\n",
       "1  Q6GIG7      0.0          0      355   532.796\n",
       "2  Q99VF6      0.0          0      355   532.796\n",
       "3  A5IR97      0.0          0      355   532.796\n",
       "4  A6U025      0.0          0      355   532.796"
      ],
      "text/html": "<div>\n<style scoped>\n    .dataframe tbody tr th:only-of-type {\n        vertical-align: middle;\n    }\n\n    .dataframe tbody tr th {\n        vertical-align: top;\n    }\n\n    .dataframe thead th {\n        text-align: right;\n    }\n</style>\n<table border=\"1\" class=\"dataframe\">\n  <thead>\n    <tr style=\"text-align: right;\">\n      <th></th>\n      <th>ids</th>\n      <th>e_value</th>\n      <th>hit_start</th>\n      <th>hit_end</th>\n      <th>bitscore</th>\n    </tr>\n  </thead>\n  <tbody>\n    <tr>\n      <th>0</th>\n      <td>Q6GB05</td>\n      <td>0.0</td>\n      <td>0</td>\n      <td>355</td>\n      <td>533.181</td>\n    </tr>\n    <tr>\n      <th>1</th>\n      <td>Q6GIG7</td>\n      <td>0.0</td>\n      <td>0</td>\n      <td>355</td>\n      <td>532.796</td>\n    </tr>\n    <tr>\n      <th>2</th>\n      <td>Q99VF6</td>\n      <td>0.0</td>\n      <td>0</td>\n      <td>355</td>\n      <td>532.796</td>\n    </tr>\n    <tr>\n      <th>3</th>\n      <td>A5IR97</td>\n      <td>0.0</td>\n      <td>0</td>\n      <td>355</td>\n      <td>532.796</td>\n    </tr>\n    <tr>\n      <th>4</th>\n      <td>A6U025</td>\n      <td>0.0</td>\n      <td>0</td>\n      <td>355</td>\n      <td>532.796</td>\n    </tr>\n  </tbody>\n</table>\n</div>"
     },
     "metadata": {},
     "execution_count": 7
    }
   ],
   "source": [
    "hits_df = pd.DataFrame.from_dict(hits_dict)\n",
    "print(hits_df.shape)\n",
    "hits_df.head()"
   ]
  },
  {
   "source": [
    "## PSSM Model Performance (C1_denoised1)"
   ],
   "cell_type": "markdown",
   "metadata": {}
  },
  {
   "cell_type": "code",
   "execution_count": 8,
   "metadata": {},
   "outputs": [
    {
     "output_type": "stream",
     "name": "stdout",
     "text": [
      ".\\data_team_1\\PSSMs\\PSSM_C\\out_psiblast_C_1_denoised1_swissprot_2iterations.xml\n"
     ]
    }
   ],
   "source": [
    "iterations = 2\n",
    "xml_path = \".\\data_team_1\\PSSMs\\PSSM_C\\out_psiblast_C_1_denoised1_swissprot_{}iterations.xml\".format(iterations)\n",
    "print(xml_path)\n",
    "hits_dict = {}\n",
    "blast_records = SearchIO.parse(xml_path, 'blast-xml')\n",
    "for blast_record in blast_records:\n",
    "    for rec in blast_record.hits:\n",
    "        # print(rec.hsps[0].bitscore)\n",
    "        hits_dict.setdefault(\"ids\",[]).append(rec.id.split('|')[1])\n",
    "        hits_dict.setdefault(\"e_value\",[]).append(rec.hsps[0].evalue)\n",
    "        hits_dict.setdefault(\"hit_start\",[]).append(rec.hsps[0].hit_range[0])\n",
    "        hits_dict.setdefault(\"hit_end\",[]).append(rec.hsps[0].hit_range[1])\n",
    "        hits_dict.setdefault(\"bitscore\",[]).append(rec.hsps[0].bitscore)\n",
    "        # hits_list.append((rec.id.split('|')[1], rec.hsps[0].evalue, rec.hsps[0].hit_range))\n",
    "   # print(blast_record.hits)"
   ]
  },
  {
   "cell_type": "code",
   "execution_count": 9,
   "metadata": {},
   "outputs": [
    {
     "output_type": "stream",
     "name": "stdout",
     "text": [
      "(657, 5)\n"
     ]
    },
    {
     "output_type": "execute_result",
     "data": {
      "text/plain": [
       "      ids  e_value  hit_start  hit_end  bitscore\n",
       "0  Q6GIG7      0.0          8      348   513.124\n",
       "1  Q6GB05      0.0          8      348   512.739\n",
       "2  Q99VF6      0.0          8      348   512.739\n",
       "3  A5IR97      0.0          8      348   512.739\n",
       "4  A6U025      0.0          8      348   512.739\n",
       "5  Q8NXG7      0.0          8      348   511.969\n",
       "6  A8Z1H7      0.0          8      348   508.887\n",
       "7  A6QFD2      0.0          8      348   508.887\n",
       "8  Q5HHG4      0.0          8      348   508.887\n",
       "9  Q2FZX9      0.0          8      348   508.887"
      ],
      "text/html": "<div>\n<style scoped>\n    .dataframe tbody tr th:only-of-type {\n        vertical-align: middle;\n    }\n\n    .dataframe tbody tr th {\n        vertical-align: top;\n    }\n\n    .dataframe thead th {\n        text-align: right;\n    }\n</style>\n<table border=\"1\" class=\"dataframe\">\n  <thead>\n    <tr style=\"text-align: right;\">\n      <th></th>\n      <th>ids</th>\n      <th>e_value</th>\n      <th>hit_start</th>\n      <th>hit_end</th>\n      <th>bitscore</th>\n    </tr>\n  </thead>\n  <tbody>\n    <tr>\n      <th>0</th>\n      <td>Q6GIG7</td>\n      <td>0.0</td>\n      <td>8</td>\n      <td>348</td>\n      <td>513.124</td>\n    </tr>\n    <tr>\n      <th>1</th>\n      <td>Q6GB05</td>\n      <td>0.0</td>\n      <td>8</td>\n      <td>348</td>\n      <td>512.739</td>\n    </tr>\n    <tr>\n      <th>2</th>\n      <td>Q99VF6</td>\n      <td>0.0</td>\n      <td>8</td>\n      <td>348</td>\n      <td>512.739</td>\n    </tr>\n    <tr>\n      <th>3</th>\n      <td>A5IR97</td>\n      <td>0.0</td>\n      <td>8</td>\n      <td>348</td>\n      <td>512.739</td>\n    </tr>\n    <tr>\n      <th>4</th>\n      <td>A6U025</td>\n      <td>0.0</td>\n      <td>8</td>\n      <td>348</td>\n      <td>512.739</td>\n    </tr>\n    <tr>\n      <th>5</th>\n      <td>Q8NXG7</td>\n      <td>0.0</td>\n      <td>8</td>\n      <td>348</td>\n      <td>511.969</td>\n    </tr>\n    <tr>\n      <th>6</th>\n      <td>A8Z1H7</td>\n      <td>0.0</td>\n      <td>8</td>\n      <td>348</td>\n      <td>508.887</td>\n    </tr>\n    <tr>\n      <th>7</th>\n      <td>A6QFD2</td>\n      <td>0.0</td>\n      <td>8</td>\n      <td>348</td>\n      <td>508.887</td>\n    </tr>\n    <tr>\n      <th>8</th>\n      <td>Q5HHG4</td>\n      <td>0.0</td>\n      <td>8</td>\n      <td>348</td>\n      <td>508.887</td>\n    </tr>\n    <tr>\n      <th>9</th>\n      <td>Q2FZX9</td>\n      <td>0.0</td>\n      <td>8</td>\n      <td>348</td>\n      <td>508.887</td>\n    </tr>\n  </tbody>\n</table>\n</div>"
     },
     "metadata": {},
     "execution_count": 9
    }
   ],
   "source": [
    "hits_df_denoised1 = pd.DataFrame.from_dict(hits_dict)\n",
    "print(hits_df_denoised1.shape)\n",
    "hits_df_denoised1.head(10)"
   ]
  },
  {
   "source": [
    "# 9 - Evualuate the ability of matching domain positions"
   ],
   "cell_type": "markdown",
   "metadata": {}
  },
  {
   "cell_type": "code",
   "execution_count": null,
   "metadata": {},
   "outputs": [],
   "source": []
  }
 ],
 "metadata": {
  "kernelspec": {
   "name": "python3",
   "display_name": "Python 3.7.9 64-bit",
   "metadata": {
    "interpreter": {
     "hash": "0600588c3b5f4418cbe7b5ebc6825b479f3bc010269d8b60d75058cdd010adfe"
    }
   }
  },
  "language_info": {
   "codemirror_mode": {
    "name": "ipython",
    "version": 3
   },
   "file_extension": ".py",
   "mimetype": "text/x-python",
   "name": "python",
   "nbconvert_exporter": "python",
   "pygments_lexer": "ipython3",
   "version": "3.7.9-final"
  }
 },
 "nbformat": 4,
 "nbformat_minor": 5
}