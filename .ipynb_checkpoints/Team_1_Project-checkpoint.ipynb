{
 "cells": [
  {
   "cell_type": "markdown",
   "id": "declared-broad",
   "metadata": {},
   "source": [
    "# Project"
   ]
  },
  {
   "cell_type": "markdown",
   "id": "modern-compensation",
   "metadata": {},
   "source": [
    "## Download Data"
   ]
  },
  {
   "cell_type": "code",
   "execution_count": null,
   "id": "standard-jewel",
   "metadata": {},
   "outputs": [],
   "source": [
    "import urllib\n",
    "import json\n",
    "import pandas as pd\n",
    "from bd_addons.interpro_data import *\n",
    "\n",
    "url = \"https://www.ebi.ac.uk/interpro/api/protein/reviewed/entry/pfam/pf03060?format=json\"\n",
    "\n",
    "metadata, entries = get_data(url, 1)"
   ]
  },
  {
   "cell_type": "code",
   "execution_count": null,
   "id": "toxic-oxford",
   "metadata": {},
   "outputs": [],
   "source": [
    "metadata.head(5)"
   ]
  },
  {
   "cell_type": "code",
   "execution_count": null,
   "id": "banned-martin",
   "metadata": {},
   "outputs": [],
   "source": [
    "entries.head(5)"
   ]
  },
  {
   "cell_type": "code",
   "execution_count": null,
   "id": "cooked-inflation",
   "metadata": {},
   "outputs": [],
   "source": []
  }
 ],
 "metadata": {
  "kernelspec": {
   "display_name": "Python 3",
   "language": "python",
   "name": "python3"
  },
  "language_info": {
   "codemirror_mode": {
    "name": "ipython",
    "version": 3
   },
   "file_extension": ".py",
   "mimetype": "text/x-python",
   "name": "python",
   "nbconvert_exporter": "python",
   "pygments_lexer": "ipython3",
   "version": "3.7.9"
  }
 },
 "nbformat": 4,
 "nbformat_minor": 5
}
